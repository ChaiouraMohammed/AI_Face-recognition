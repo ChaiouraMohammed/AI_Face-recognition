{
 "cells": [
  {
   "cell_type": "code",
   "execution_count": 3,
   "id": "bfd2e39d-394a-4b5e-b224-7a9bcce04346",
   "metadata": {},
   "outputs": [],
   "source": [
    "import face_recognition\n",
    "import cv2"
   ]
  },
  {
   "cell_type": "code",
   "execution_count": 7,
   "id": "f28d5481-620d-41ba-9c17-d33f864ba1f4",
   "metadata": {},
   "outputs": [],
   "source": [
    "image = face_recognition.load_image_file(\"1722274132219.jpg\")"
   ]
  },
  {
   "cell_type": "code",
   "execution_count": 9,
   "id": "8d73cc1c-1e0e-423c-8080-d67fe2361421",
   "metadata": {},
   "outputs": [],
   "source": [
    "face_locations = face_recognition.face_locations(image)"
   ]
  },
  {
   "cell_type": "code",
   "execution_count": 11,
   "id": "851b01ba-c902-4f3f-add8-8c3ff63671b7",
   "metadata": {},
   "outputs": [],
   "source": [
    "face_encodings = face_recognition.face_encodings(image, face_locations)"
   ]
  },
  {
   "cell_type": "code",
   "execution_count": 21,
   "id": "d8827f1f-7f28-414d-bbbc-ef96ed34dd32",
   "metadata": {},
   "outputs": [],
   "source": [
    "test_image = face_recognition.load_image_file(\"images.jpg\")"
   ]
  },
  {
   "cell_type": "code",
   "execution_count": 23,
   "id": "dd0732b8-f3aa-4e52-b059-331a48a9b351",
   "metadata": {},
   "outputs": [],
   "source": [
    "test_face_encodings = face_recognition.face_encodings(test_image)"
   ]
  },
  {
   "cell_type": "code",
   "execution_count": 25,
   "id": "168a829d-f9b8-4a80-bf9e-49bd616956fb",
   "metadata": {},
   "outputs": [
    {
     "name": "stdout",
     "output_type": "stream",
     "text": [
      "No match.\n"
     ]
    }
   ],
   "source": [
    "for face_encoding in test_face_encodings:\n",
    "    matches = face_recognition.compare_faces(face_encodings, face_encoding)\n",
    "\n",
    "    if True in matches:\n",
    "        print(\"Match found!\")\n",
    "    else:\n",
    "        print(\"No match.\")\n",
    "\n",
    "# Show the image using OpenCV\n",
    "cv2.imshow(\"Image\", image)\n",
    "cv2.waitKey(0)\n",
    "cv2.destroyAllWindows()"
   ]
  }
 ],
 "metadata": {
  "kernelspec": {
   "display_name": "Python 3 (ipykernel)",
   "language": "python",
   "name": "python3"
  },
  "language_info": {
   "codemirror_mode": {
    "name": "ipython",
    "version": 3
   },
   "file_extension": ".py",
   "mimetype": "text/x-python",
   "name": "python",
   "nbconvert_exporter": "python",
   "pygments_lexer": "ipython3",
   "version": "3.12.4"
  }
 },
 "nbformat": 4,
 "nbformat_minor": 5
}
